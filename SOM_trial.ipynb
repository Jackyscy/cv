{
  "nbformat": 4,
  "nbformat_minor": 0,
  "metadata": {
    "colab": {
      "provenance": [],
      "authorship_tag": "ABX9TyMTlw/O8E35dKfhj0KS4rXV",
      "include_colab_link": true
    },
    "kernelspec": {
      "name": "python3",
      "display_name": "Python 3"
    },
    "language_info": {
      "name": "python"
    }
  },
  "cells": [
    {
      "cell_type": "markdown",
      "metadata": {
        "id": "view-in-github",
        "colab_type": "text"
      },
      "source": [
        "<a href=\"https://colab.research.google.com/github/Jackyscy/cv/blob/main/SOM_trial.ipynb\" target=\"_parent\"><img src=\"https://colab.research.google.com/assets/colab-badge.svg\" alt=\"Open In Colab\"/></a>"
      ]
    },
    {
      "cell_type": "code",
      "execution_count": 1,
      "metadata": {
        "colab": {
          "base_uri": "https://localhost:8080/"
        },
        "id": "VG14313QSWep",
        "outputId": "557b429a-7cb6-4e79-8640-494b4efde8e4"
      },
      "outputs": [
        {
          "output_type": "stream",
          "name": "stdout",
          "text": [
            "Collecting MiniSom\n",
            "  Downloading MiniSom-2.3.1.tar.gz (10 kB)\n",
            "  Preparing metadata (setup.py) ... \u001b[?25l\u001b[?25hdone\n",
            "Building wheels for collected packages: MiniSom\n",
            "  Building wheel for MiniSom (setup.py) ... \u001b[?25l\u001b[?25hdone\n",
            "  Created wheel for MiniSom: filename=MiniSom-2.3.1-py3-none-any.whl size=10589 sha256=60e2eed42ac15abc873691435df1952772ecaa3668676399695c2677f8f51595\n",
            "  Stored in directory: /root/.cache/pip/wheels/c7/92/d2/33bbda5f86fd8830510b16aa98c8dd420129b5cb24248fd6db\n",
            "Successfully built MiniSom\n",
            "Installing collected packages: MiniSom\n",
            "Successfully installed MiniSom-2.3.1\n"
          ]
        }
      ],
      "source": [
        "!pip install MiniSom"
      ]
    },
    {
      "cell_type": "code",
      "source": [
        "import numpy as np\n",
        "import pandas as pd\n",
        "import matplotlib.pyplot as plt\n"
      ],
      "metadata": {
        "id": "D_4H_0uISeUn"
      },
      "execution_count": 21,
      "outputs": []
    },
    {
      "cell_type": "code",
      "source": [
        "dataset = pd.read_csv(\"2023_one hours_1 _On_state_with_id.csv\",parse_dates=[\"Date_Time\"],\n",
        "        index_col=[\"Date_Time\"])\n",
        "X = dataset.iloc[:, :].values\n",
        "#y = dataset.iloc[:, -1].values\n"
      ],
      "metadata": {
        "id": "4DVKZrSwSebR"
      },
      "execution_count": 33,
      "outputs": []
    },
    {
      "cell_type": "code",
      "source": [
        "dataset.info()\n"
      ],
      "metadata": {
        "colab": {
          "base_uri": "https://localhost:8080/"
        },
        "id": "1STE25WrWGrT",
        "outputId": "a2ae6061-3231-4e9e-99a4-ac9af04739ea"
      },
      "execution_count": 34,
      "outputs": [
        {
          "output_type": "stream",
          "name": "stdout",
          "text": [
            "<class 'pandas.core.frame.DataFrame'>\n",
            "DatetimeIndex: 3685 entries, 2023-01-20 16:00:00 to 2023-10-29 22:00:00\n",
            "Data columns (total 48 columns):\n",
            " #   Column                           Non-Null Count  Dtype  \n",
            "---  ------                           --------------  -----  \n",
            " 0   ID                               3685 non-null   int64  \n",
            " 1   Combust Monitor Actual Spread 1  3685 non-null   float64\n",
            " 2   Gt Exhaust Outlet Temp           3685 non-null   float64\n",
            " 3   Turbine Speed In RPM             3685 non-null   float64\n",
            " 4   GT Fuel Gas Mass Flow            3685 non-null   float64\n",
            " 5   GT Gross MW                      3685 non-null   float64\n",
            " 6   GT Compres Inlet Temp            3685 non-null   float64\n",
            " 7   GT IGV Position                  3685 non-null   float64\n",
            " 8   GT Turbine Inlet Temperature     3685 non-null   float64\n",
            " 9   GT Swirl Angle                   3685 non-null   float64\n",
            " 10  GT Efficiency Actual (LHV)       3685 non-null   float64\n",
            " 11  GT (Expander) Efficiency         3685 non-null   float64\n",
            " 12  Combust Monitor Actual Spread 2  3685 non-null   float64\n",
            " 13  GT Compres Inlet Press           3685 non-null   float64\n",
            " 14  GT Exhaust Outlet Temp Exp       3685 non-null   float64\n",
            " 15  GT Exhaust Gas Flow - HB         3685 non-null   float64\n",
            " 16  Combust Monitor Actual Spread 3  3685 non-null   float64\n",
            " 17  Turb Exhaust T/C 1               3685 non-null   float64\n",
            " 18  Turb Exhaust T/C 2               3685 non-null   float64\n",
            " 19  Turb Exhaust T/C 3               3685 non-null   float64\n",
            " 20  Turb Exhaust T/C 4               3685 non-null   float64\n",
            " 21  Turb Exhaust T/C 5               3685 non-null   float64\n",
            " 22  Turb Exhaust T/C 6               3685 non-null   float64\n",
            " 23  Turb Exhaust T/C 7               3685 non-null   float64\n",
            " 24  Turb Exhaust T/C 8               3685 non-null   float64\n",
            " 25  Turb Exhaust T/C 9               3685 non-null   float64\n",
            " 26  Turb Exhaust T/C 10              3685 non-null   float64\n",
            " 27  Turb Exhaust T/C 11              3685 non-null   float64\n",
            " 28  Turb Exhaust T/C 12              3685 non-null   float64\n",
            " 29  Turb Exhaust T/C 13              3685 non-null   float64\n",
            " 30  Turb Exhaust T/C 14              3685 non-null   float64\n",
            " 31  Turb Exhaust T/C 15              3685 non-null   float64\n",
            " 32  Turb Exhaust T/C 16              3685 non-null   float64\n",
            " 33  Turb Exhaust T/C 17              3685 non-null   float64\n",
            " 34  Turb Exhaust T/C 18              3685 non-null   float64\n",
            " 35  Turb Exhaust T/C 19              3685 non-null   float64\n",
            " 36  Turb Exhaust T/C 20              3685 non-null   float64\n",
            " 37  Turb Exhaust T/C 21              3685 non-null   float64\n",
            " 38  Turb Exhaust T/C 22              3685 non-null   float64\n",
            " 39  Turb Exhaust T/C 23              3685 non-null   float64\n",
            " 40  Turb Exhaust T/C 24              3685 non-null   float64\n",
            " 41  Turb Exhaust T/C 25              3685 non-null   float64\n",
            " 42  Turb Exhaust T/C 26              3685 non-null   float64\n",
            " 43  Turb Exhaust T/C 27              3685 non-null   float64\n",
            " 44  Turb Exhaust T/C 28              3685 non-null   float64\n",
            " 45  Turb Exhaust T/C 29              3685 non-null   float64\n",
            " 46  Turb Exhaust T/C 30              3685 non-null   float64\n",
            " 47  Turb Exhaust T/C 31              3685 non-null   float64\n",
            "dtypes: float64(47), int64(1)\n",
            "memory usage: 1.4 MB\n"
          ]
        }
      ]
    },
    {
      "cell_type": "code",
      "source": [
        "from sklearn.preprocessing import MinMaxScaler\n",
        "sc = MinMaxScaler(feature_range = (0,1))\n",
        "X = sc.fit_transform(X)"
      ],
      "metadata": {
        "id": "KmPHzQTiSeej"
      },
      "execution_count": 35,
      "outputs": []
    },
    {
      "cell_type": "code",
      "source": [
        "from minisom import MiniSom\n",
        "som = MiniSom(x=10, y=10, input_len= 48, sigma= 1.0, learning_rate = 0.5)\n",
        "som.random_weights_init(X)\n",
        "som.train_random(data = X, num_iteration = 100)"
      ],
      "metadata": {
        "id": "8Z2dlOdnSehQ"
      },
      "execution_count": 36,
      "outputs": []
    },
    {
      "cell_type": "code",
      "source": [
        "from pylab import bone, pcolor, colorbar, plot, show\n",
        "bone()\n",
        "pcolor(som.distance_map().T)\n",
        "colorbar()\n"
      ],
      "metadata": {
        "colab": {
          "base_uri": "https://localhost:8080/",
          "height": 452
        },
        "id": "OrGZCEbkXHWX",
        "outputId": "cb85b90d-7a2d-4965-f4e3-756b805d2d42"
      },
      "execution_count": 37,
      "outputs": [
        {
          "output_type": "execute_result",
          "data": {
            "text/plain": [
              "<matplotlib.colorbar.Colorbar at 0x79d4cf8db070>"
            ]
          },
          "metadata": {},
          "execution_count": 37
        },
        {
          "output_type": "display_data",
          "data": {
            "text/plain": [
              "<Figure size 640x480 with 2 Axes>"
            ],
            "image/png": "[encoded data removed]"
          },
          "metadata": {}
        }
      ]
    },
    {
      "cell_type": "code",
      "source": [
        "mappings = som.win_map(X)\n",
        "#anomaly = mappings[(3,4)]\n",
        "#anomaly = sc.inverse_transform(anomaly)\n",
        "frauds = mappings[(5,8)]\n",
        "\n",
        "#frauds = np.concatenate((mappings[(3,5)],mappings[(4,4)]), axis=0)"
      ],
      "metadata": {
        "id": "DgISLZuMY2vj"
      },
      "execution_count": 40,
      "outputs": []
    },
    {
      "cell_type": "code",
      "source": [
        "frauds = sc.inverse_transform(frauds)\n",
        "#anomaly_inverse = sc.inverse_transform(anomaly)\n",
        "frauds"
      ],
      "metadata": {
        "id": "lh9yt8yHY2yX",
        "colab": {
          "base_uri": "https://localhost:8080/"
        },
        "outputId": "ac279bdd-993b-4ede-c316-d546d7c4a44a"
      },
      "execution_count": 41,
      "outputs": [
        {
          "output_type": "execute_result",
          "data": {
            "text/plain": [
              "array([[ 410.   ,   39.385,  636.947, 2997.869,    6.651,   60.586,\n",
              "          34.027,   42.82 , 1037.466,  159.067,   19.344,   76.867,\n",
              "          23.795,  101.516,  570.24 ,  375.014,   22.643,  624.181,\n",
              "         639.054,  641.034,  642.83 ,  621.137,  640.737,  626.549,\n",
              "         603.56 ,  637.567,  638.427,  617.916,  629.151,  639.854,\n",
              "         632.808,  637.184,  637.396,  639.652,  639.679,  637.631,\n",
              "         640.064,  643.153,  640.723,  643.664,  641.588,  641.603,\n",
              "         644.955,  642.368,  638.487,  639.587,  639.082,  639.467],\n",
              "       [ 643.   ,   40.284,  639.017, 2998.319,    7.588,   68.658,\n",
              "          32.07 ,   48.613, 1041.717,  154.319,   18.294,   72.403,\n",
              "          24.807,  101.372,  605.1  ,  453.704,   23.78 ,  624.174,\n",
              "         638.098,  641.707,  644.804,  622.128,  641.167,  626.216,\n",
              "         606.559,  641.07 ,  642.149,  620.614,  634.204,  645.764,\n",
              "         637.278,  642.067,  640.648,  641.941,  641.083,  640.759,\n",
              "         643.115,  645.702,  641.946,  644.829,  644.735,  645.039,\n",
              "         645.874,  642.482,  640.892,  640.001,  639.452,  640.594],\n",
              "       [ 723.   ,   34.24 ,  637.304, 2997.535,    6.972,   59.428,\n",
              "          37.512,   49.375, 1029.708,  159.748,   16.478,   71.758,\n",
              "          21.824,  100.633,  576.549,  448.845,   21.047,  642.811,\n",
              "         640.524,  639.818,  642.046,  631.885,  636.006,  624.561,\n",
              "         610.446,  621.491,  628.774,  623.158,  632.739,  644.189,\n",
              "         637.495,  641.166,  640.994,  640.309,  636.799,  636.903,\n",
              "         639.853,  640.315,  641.363,  641.247,  641.12 ,  640.393,\n",
              "         640.757,  636.626,  641.719,  640.467,  639.295,  640.832],\n",
              "       [1023.   ,   41.595,  629.783, 2998.576,    5.977,   47.365,\n",
              "          39.882,   41.985,  999.252,  166.836,   16.384,   73.93 ,\n",
              "          25.677,  100.218,  568.539,  365.679,   19.401,  635.177,\n",
              "         630.709,  635.068,  637.548,  613.255,  633.114,  619.298,\n",
              "         595.255,  630.709,  632.284,  608.724,  621.433,  633.466,\n",
              "         622.458,  627.061,  630.601,  632.526,  630.676,  629.063,\n",
              "         629.12 ,  631.459,  630.609,  634.221,  633.156,  633.619,\n",
              "         637.056,  633.255,  631.072,  630.901,  628.244,  632.165],\n",
              "       [1102.   ,   39.022,  627.657, 3001.82 ,    6.167,   61.549,\n",
              "          33.32 ,   43.013, 1033.056,  158.5  ,   20.206,   78.426,\n",
              "          25.349,  101.207,  605.104,  367.258,   21.412,  629.584,\n",
              "         626.833,  631.235,  633.771,  610.08 ,  630.022,  616.684,\n",
              "         594.377,  628.815,  630.48 ,  608.203,  621.38 ,  632.012,\n",
              "         623.732,  628.183,  630.132,  633.131,  631.141,  628.587,\n",
              "         628.979,  631.69 ,  629.153,  631.807,  630.471,  630.561,\n",
              "         632.545,  629.974,  627.687,  627.66 ,  626.295,  627.083],\n",
              "       [1301.   ,   36.461,  639.04 , 3001.331,    6.937,   65.085,\n",
              "          40.127,   45.925, 1049.342,  156.421,   19.913,   77.605,\n",
              "          24.066,  100.646,  606.339,  388.951,   20.304,  640.302,\n",
              "         638.073,  641.103,  642.716,  623.611,  640.81 ,  626.358,\n",
              "         607.165,  638.169,  640.039,  621.702,  631.73 ,  643.316,\n",
              "         636.181,  642.073,  640.327,  642.342,  640.207,  640.147,\n",
              "         640.338,  644.731,  641.695,  643.162,  641.993,  643.578,\n",
              "         645.264,  641.978,  640.892,  640.556,  639.522,  640.443],\n",
              "       [1308.   ,   38.851,  625.401, 2998.05 ,    6.174,   49.623,\n",
              "          41.32 ,   42.005, 1000.929,  165.495,   17.245,   75.347,\n",
              "          25.866,  100.826,  573.286,  364.391,   20.422,  630.402,\n",
              "         626.556,  631.348,  633.468,  610.137,  629.335,  614.864,\n",
              "         591.84 ,  626.853,  628.792,  605.001,  618.073,  630.019,\n",
              "         619.46 ,  623.315,  627.298,  629.068,  626.927,  626.568,\n",
              "         624.862,  628.358,  626.61 ,  628.765,  628.206,  628.599,\n",
              "         631.385,  628.662,  626.957,  627.741,  624.812,  627.242],\n",
              "       [1395.   ,   36.798,  639.902, 2997.797,    7.189,   58.089,\n",
              "          40.737,   44.075, 1019.779,  160.748,   17.171,   74.144,\n",
              "          24.115,  100.43 ,  605.124,  414.594,   21.206,  642.658,\n",
              "         640.726,  643.748,  645.451,  624.335,  643.224,  629.033,\n",
              "         606.472,  641.156,  639.68 ,  618.913,  630.138,  642.567,\n",
              "         634.799,  640.721,  639.983,  643.648,  641.864,  641.363,\n",
              "         641.406,  646.302,  642.738,  644.042,  644.448,  644.05 ,\n",
              "         646.729,  644.032,  639.727,  640.943,  640.557,  641.083],\n",
              "       [1426.   ,   38.671,  631.49 , 3000.465,    6.134,   53.398,\n",
              "          40.918,   42.003, 1018.366,  163.295,   18.337,   76.082,\n",
              "          27.524,  100.8  ,  575.617,  358.702,   30.055,  634.203,\n",
              "         630.691,  635.409,  638.217,  614.322,  634.543,  620.592,\n",
              "         598.616,  632.49 ,  633.034,  610.931,  624.53 ,  636.82 ,\n",
              "         626.649,  631.523,  633.548,  635.733,  633.893,  632.015,\n",
              "         631.402,  635.323,  633.962,  636.821,  635.583,  635.706,\n",
              "         636.747,  634.271,  633.275,  633.412,  629.341,  631.581],\n",
              "       [1454.   ,   43.63 ,  638.83 , 2997.984,    8.981,   96.314,\n",
              "          37.556,   53.95 , 1091.608,  137.854,   22.596,   75.09 ,\n",
              "          28.208,  100.509,  605.125,  485.39 ,   27.093,  637.661,\n",
              "         638.22 ,  646.65 ,  643.172,  616.672,  641.819,  627.386,\n",
              "         603.611,  643.355,  644.427,  619.899,  636.501,  647.134,\n",
              "         637.783,  642.987,  642.421,  644.549,  644.722,  643.394,\n",
              "         638.323,  642.592,  642.202,  641.728,  642.55 ,  644.003,\n",
              "         641.443,  637.221,  636.741,  638.675,  640.338,  640.263],\n",
              "       [1704.   ,   41.514,  639.064, 2997.881,    8.862,  112.545,\n",
              "          35.4  ,   54.095, 1133.415,  128.183,   26.297,   80.758,\n",
              "          23.656,  100.524,  605.049,  462.473,   21.843,  637.197,\n",
              "         637.907,  644.845,  642.884,  619.183,  644.516,  628.93 ,\n",
              "         604.362,  643.593,  643.772,  618.633,  637.298,  648.08 ,\n",
              "         638.29 ,  643.113,  642.654,  644.951,  645.247,  643.68 ,\n",
              "         638.365,  642.969,  642.304,  640.844,  642.018,  643.353,\n",
              "         640.185,  635.776,  635.936,  639.047,  639.864,  640.296],\n",
              "       [1774.   ,   38.753,  633.992, 2997.824,    6.776,   56.16 ,\n",
              "          38.402,   44.47 , 1020.93 ,  161.671,   17.787,   73.86 ,\n",
              "          23.147,  100.317,  589.088,  391.157,   18.693,  636.63 ,\n",
              "         633.741,  639.068,  640.003,  617.827,  636.741,  623.214,\n",
              "         602.558,  636.853,  636.458,  614.09 ,  626.91 ,  639.104,\n",
              "         630.127,  634.651,  635.985,  637.929,  636.744,  635.227,\n",
              "         635.07 ,  638.882,  636.506,  638.734,  637.502,  638.391,\n",
              "         640.018,  636.551,  635.739,  635.448,  632.525,  634.89 ],\n",
              "       [1790.   ,   38.752,  625.785, 3000.141,    6.063,   47.939,\n",
              "          40.764,   41.994,  996.772,  166.506,   16.735,   73.84 ,\n",
              "          22.636,  100.332,  605.128,  363.395,   19.966,  629.599,\n",
              "         626.296,  629.965,  632.546,  609.529,  628.823,  616.418,\n",
              "         592.707,  627.621,  628.619,  605.449,  618.049,  629.54 ,\n",
              "         618.924,  623.534,  627.316,  628.363,  626.938,  626.366,\n",
              "         625.028,  628.363,  627.668,  630.149,  628.502,  629.715,\n",
              "         632.086,  629.249,  629.43 ,  628.246,  623.961,  627.693],\n",
              "       [1918.   ,   39.815,  640.186, 3002.094,    6.16 ,   60.696,\n",
              "          40.782,   43.956, 1044.159,  159.002,   19.84 ,   75.906,\n",
              "          25.307,  100.785,  605.063,  363.434,   21.172,  643.546,\n",
              "         641.695,  643.5  ,  643.368,  623.   ,  641.592,  627.73 ,\n",
              "         606.237,  639.801,  640.087,  618.504,  632.728,  642.715,\n",
              "         633.789,  639.327,  640.135,  643.154,  641.944,  640.016,\n",
              "         640.494,  645.97 ,  643.342,  645.358,  644.359,  644.252,\n",
              "         646.39 ,  644.002,  641.978,  642.552,  640.135,  641.023],\n",
              "       [2265.   ,   39.286,  638.73 , 3000.916,    8.556,   69.969,\n",
              "          36.082,   52.93 , 1034.001,  153.548,   16.691,   69.836,\n",
              "          28.599,  100.156,  605.066,  505.396,   25.346,  639.122,\n",
              "         636.722,  634.718,  634.635,  616.579,  640.314,  626.253,\n",
              "         607.008,  645.157,  644.127,  619.974,  637.634,  648.971,\n",
              "         644.408,  643.115,  643.442,  643.05 ,  642.743,  639.117,\n",
              "         639.683,  645.612,  639.845,  640.99 ,  642.411,  643.218,\n",
              "         641.268,  639.481,  640.176,  640.163,  639.508,  641.608],\n",
              "       [2331.   ,   40.349,  638.999, 2998.564,    9.189,   56.779,\n",
              "          35.808,   56.506, 1004.621,  161.306,   12.444,   64.61 ,\n",
              "          27.389,   99.919,  605.128,  589.938,   25.535,  638.415,\n",
              "         635.143,  626.399,  628.775,  616.612,  642.664,  627.147,\n",
              "         607.841,  648.939,  646.367,  623.028,  640.854,  650.157,\n",
              "         645.163,  645.408,  646.185,  643.917,  644.962,  638.962,\n",
              "         639.966,  646.048,  640.141,  640.283,  644.069,  643.609,\n",
              "         637.65 ,  636.914,  637.951,  639.611,  642.269,  645.164],\n",
              "       [2348.   ,   39.69 ,  640.243, 2998.366,    6.828,   64.874,\n",
              "          41.053,   46.559, 1046.53 ,  156.545,   19.189,   74.862,\n",
              "          28.614,  100.175,  603.929,  404.457,   28.385,  642.016,\n",
              "         637.515,  635.098,  631.695,  616.154,  639.385,  627.369,\n",
              "         605.588,  642.202,  643.162,  621.681,  633.783,  643.76 ,\n",
              "         642.431,  642.279,  641.99 ,  644.846,  644.581,  642.713,\n",
              "         641.495,  647.858,  643.234,  643.807,  643.994,  643.939,\n",
              "         645.803,  642.274,  640.397,  643.192,  641.434,  642.368],\n",
              "       [2716.   ,   39.955,  639.259, 3000.23 ,    6.98 ,   57.054,\n",
              "          37.828,   46.829, 1023.83 ,  161.145,   17.018,   72.52 ,\n",
              "          25.262,  100.158,  586.688,  414.166,   19.47 ,  641.407,\n",
              "         639.292,  642.733,  644.966,  624.25 ,  643.027,  627.866,\n",
              "         605.85 ,  641.336,  641.266,  618.858,  632.736,  644.034,\n",
              "         640.128,  640.255,  640.566,  643.328,  642.663,  641.359,\n",
              "         642.179,  645.04 ,  641.686,  643.427,  641.451,  643.403,\n",
              "         644.85 ,  641.634,  640.259,  641.366,  638.791,  640.468],\n",
              "       [2840.   ,   43.455,  639.518, 3001.16 ,    8.904,   54.917,\n",
              "          35.078,   54.158, 1003.882,  162.402,   12.809,   64.972,\n",
              "          26.826,  100.357,  604.873,  550.983,   21.336,  637.037,\n",
              "         638.047,  646.171,  641.25 ,  616.967,  642.967,  625.456,\n",
              "         601.7  ,  642.882,  644.977,  620.136,  637.731,  649.25 ,\n",
              "         642.987,  642.403,  640.773,  644.623,  644.26 ,  641.763,\n",
              "         636.203,  642.21 ,  642.173,  641.575,  641.492,  643.586,\n",
              "         638.913,  635.555,  637.145,  641.036,  640.609,  640.377],\n",
              "       [2925.   ,   40.061,  639.267, 2998.408,    7.333,   59.975,\n",
              "          37.881,   48.217, 1025.836,  159.426,   16.962,   71.482,\n",
              "          25.042,  100.332,  605.127,  433.816,   21.495,  641.026,\n",
              "         638.553,  641.883,  643.732,  620.959,  640.859,  626.487,\n",
              "         604.839,  640.664,  641.794,  619.054,  633.808,  644.403,\n",
              "         639.947,  641.766,  642.119,  643.275,  641.228,  641.284,\n",
              "         641.002,  645.237,  641.526,  644.201,  641.413,  643.403,\n",
              "         644.781,  641.298,  639.744,  640.059,  638.597,  640.265],\n",
              "       [2954.   ,   35.73 ,  639.329, 2997.937,    7.769,   59.109,\n",
              "          38.267,   49.752, 1019.582,  159.936,   15.761,   69.595,\n",
              "          24.432,  100.656,  604.945,  467.21 ,   20.233,  639.725,\n",
              "         636.992,  641.133,  642.569,  622.476,  639.333,  626.778,\n",
              "         608.89 ,  640.748,  641.158,  620.992,  634.39 ,  645.628,\n",
              "         640.4  ,  641.01 ,  640.798,  642.389,  640.302,  640.773,\n",
              "         641.708,  643.239,  640.016,  642.792,  641.778,  644.345,\n",
              "         644.532,  641.116,  640.471,  640.453,  638.625,  640.536],\n",
              "       [3018.   ,   39.563,  639.469, 3001.004,   10.184,   94.913,\n",
              "          34.029,   60.425, 1071.96 ,  138.651,   18.92 ,   70.629,\n",
              "          26.612,  100.864,  604.944,  580.507,   20.502,  638.924,\n",
              "         641.368,  644.966,  640.91 ,  622.301,  646.874,  627.867,\n",
              "         607.518,  647.612,  645.468,  624.111,  635.786,  639.494,\n",
              "         641.317,  642.1  ,  641.872,  642.885,  641.894,  639.706,\n",
              "         639.151,  646.472,  643.314,  640.558,  641.296,  641.28 ,\n",
              "         638.692,  634.706,  635.388,  643.005,  643.69 ,  641.903],\n",
              "       [3032.   ,   40.076,  636.866, 2998.582,    6.485,   54.561,\n",
              "          39.905,   44.209, 1021.995,  162.611,   17.447,   75.059,\n",
              "          26.848,  100.83 ,  577.511,  384.688,   21.279,  638.882,\n",
              "         638.115,  640.492,  641.828,  620.12 ,  639.573,  623.921,\n",
              "         602.987,  637.279,  636.841,  616.056,  628.984,  635.092,\n",
              "         635.828,  638.061,  639.454,  640.986,  639.707,  638.448,\n",
              "         638.693,  643.835,  640.078,  641.008,  639.182,  640.502,\n",
              "         643.112,  640.643,  638.48 ,  639.014,  636.811,  638.397],\n",
              "       [3063.   ,   36.747,  639.269, 2999.417,    9.665,   91.692,\n",
              "          36.849,   58.022, 1072.562,  140.764,   19.632,   71.783,\n",
              "          24.277,  100.884,  605.114,  552.466,   21.513,  633.894,\n",
              "         637.471,  643.06 ,  643.111,  621.647,  640.963,  626.597,\n",
              "         608.27 ,  645.218,  644.47 ,  624.144,  641.346,  643.058,\n",
              "         639.346,  643.95 ,  643.776,  640.531,  641.284,  639.307,\n",
              "         636.722,  641.846,  639.786,  642.32 ,  643.643,  641.937,\n",
              "         638.042,  636.382,  635.298,  637.134,  642.491,  642.159],\n",
              "       [3168.   ,   42.282,  639.477, 2997.522,    7.732,   61.464,\n",
              "          39.478,   50.375, 1025.906,  158.551,   16.355,   70.356,\n",
              "          25.908,  100.876,  605.112,  462.661,   21.959,  640.415,\n",
              "         639.125,  644.906,  645.153,  621.061,  641.759,  627.015,\n",
              "         602.896,  641.196,  642.209,  617.385,  632.672,  639.123,\n",
              "         639.959,  642.061,  642.44 ,  643.163,  642.137,  642.228,\n",
              "         640.568,  643.636,  641.068,  642.763,  640.727,  644.187,\n",
              "         645.304,  640.892,  639.38 ,  640.757,  639.851,  642.128],\n",
              "       [3184.   ,   41.058,  639.686, 3002.317,    6.701,   48.243,\n",
              "          41.215,   45.323, 1006.023,  166.328,   15.169,   71.522,\n",
              "          25.488,  100.812,  605.114,  409.039,   20.369,  642.918,\n",
              "         640.055,  644.621,  646.309,  622.344,  643.272,  628.664,\n",
              "         605.736,  641.748,  641.929,  618.782,  633.231,  639.995,\n",
              "         638.462,  639.471,  643.137,  642.405,  641.117,  640.913,\n",
              "         639.082,  642.642,  642.335,  643.976,  641.626,  644.302,\n",
              "         645.29 ,  642.053,  642.348,  642.573,  639.297,  642.044],\n",
              "       [3241.   ,   37.05 ,  620.227, 2997.903,    5.814,   41.484,\n",
              "          40.483,   41.981,  951.633,  164.867,   14.732,   70.771,\n",
              "          24.324,  100.587,  588.226,  358.856,   18.035,  626.387,\n",
              "         622.528,  626.576,  628.423,  606.194,  625.093,  611.41 ,\n",
              "         589.177,  621.71 ,  621.547,  600.412,  613.354,  618.901,\n",
              "         616.51 ,  616.872,  622.173,  623.462,  619.058,  619.842,\n",
              "         618.543,  621.536,  621.219,  623.642,  620.74 ,  623.081,\n",
              "         626.164,  623.407,  623.488,  623.919,  620.018,  623.466],\n",
              "       [3371.   ,   35.822,  639.391, 2998.354,   11.289,  128.371,\n",
              "          28.745,   63.841, 1120.575,  112.589,   23.45 ,   74.23 ,\n",
              "          31.799,  101.409,  605.099,  607.72 ,   23.431,  642.543,\n",
              "         642.412,  641.142,  641.432,  628.824,  647.105,  627.45 ,\n",
              "         615.421,  648.209,  642.412,  613.204,  628.631,  643.441,\n",
              "         638.42 ,  645.28 ,  639.559,  637.725,  636.813,  639.392,\n",
              "         646.218,  647.63 ,  637.268,  643.684,  638.782,  639.408,\n",
              "         634.208,  628.818,  645.256,  646.807,  644.578,  642.107]])"
            ]
          },
          "metadata": {},
          "execution_count": 41
        }
      ]
    },
    {
      "cell_type": "code",
      "source": [
        "frauds.shape"
      ],
      "metadata": {
        "colab": {
          "base_uri": "https://localhost:8080/"
        },
        "id": "iRaUb0uF5hOZ",
        "outputId": "f5b7caf9-e0d0-488f-83db-a10c750326b7"
      },
      "execution_count": 43,
      "outputs": [
        {
          "output_type": "execute_result",
          "data": {
            "text/plain": [
              "(28, 48)"
            ]
          },
          "metadata": {},
          "execution_count": 43
        }
      ]
    },
    {
      "cell_type": "code",
      "source": [
        "import numpy as np\n",
        "np.set_printoptions(threshold=np.inf)\n"
      ],
      "metadata": {
        "id": "rfh63kCkRSFX"
      },
      "execution_count": 44,
      "outputs": []
    },
    {
      "cell_type": "code",
      "source": [
        "data = dataset.iloc[:, :].values"
      ],
      "metadata": {
        "id": "03PfHlPC5pio"
      },
      "execution_count": 45,
      "outputs": []
    },
    {
      "cell_type": "code",
      "source": [
        "is_frauds = np.zeros(len(dataset))\n",
        "for i in range(len(dataset)):\n",
        "  if dataset.iloc[i,0] in frauds:\n",
        "    is_frauds[i] = 1\n"
      ],
      "metadata": {
        "id": "moxXUYgc5plX"
      },
      "execution_count": 46,
      "outputs": []
    },
    {
      "cell_type": "code",
      "source": [
        "is_frauds"
      ],
      "metadata": {
        "colab": {
          "base_uri": "https://localhost:8080/"
        },
        "id": "ySMY3JyoQuAt",
        "outputId": "4274ae40-e338-4ac2-85fc-880beacfbe62"
      },
      "execution_count": 47,
      "outputs": [
        {
          "output_type": "execute_result",
          "data": {
            "text/plain": [
              "array([0., 0., 0., 0., 0., 0., 0., 0., 0., 0., 0., 0., 0., 0., 0., 0., 0.,\n",
              "       0., 0., 0., 0., 0., 0., 0., 0., 0., 0., 0., 0., 0., 0., 0., 0., 0.,\n",
              "       0., 0., 0., 0., 0., 0., 0., 0., 0., 0., 0., 0., 0., 0., 0., 0., 0.,\n",
              "       0., 0., 0., 0., 0., 0., 0., 0., 0., 0., 0., 0., 0., 0., 0., 0., 0.,\n",
              "       0., 0., 0., 0., 0., 0., 0., 0., 0., 0., 0., 0., 0., 0., 0., 0., 0.,\n",
              "       0., 0., 0., 0., 0., 0., 0., 0., 0., 0., 0., 0., 0., 0., 0., 0., 0.,\n",
              "       0., 0., 0., 0., 0., 0., 0., 0., 0., 0., 0., 0., 0., 0., 0., 0., 0.,\n",
              "       0., 0., 0., 0., 0., 0., 0., 0., 0., 0., 0., 0., 0., 0., 0., 0., 0.,\n",
              "       0., 0., 0., 0., 0., 0., 0., 0., 0., 0., 0., 0., 0., 0., 0., 0., 0.,\n",
              "       0., 0., 0., 0., 0., 0., 0., 0., 0., 0., 0., 0., 0., 0., 0., 0., 0.,\n",
              "       0., 0., 0., 0., 0., 0., 0., 0., 0., 0., 0., 0., 0., 0., 0., 0., 0.,\n",
              "       0., 0., 0., 0., 0., 0., 0., 0., 0., 0., 0., 0., 0., 0., 0., 0., 0.,\n",
              "       0., 0., 0., 0., 0., 0., 0., 0., 0., 0., 0., 0., 0., 0., 0., 0., 0.,\n",
              "       0., 0., 0., 0., 0., 0., 0., 0., 0., 0., 0., 0., 0., 0., 0., 0., 0.,\n",
              "       0., 0., 0., 0., 0., 0., 0., 0., 0., 0., 0., 0., 0., 0., 0., 0., 0.,\n",
              "       0., 0., 0., 0., 0., 0., 0., 0., 0., 0., 0., 0., 0., 0., 0., 0., 0.,\n",
              "       0., 0., 0., 0., 0., 0., 0., 0., 0., 0., 0., 0., 0., 0., 0., 0., 0.,\n",
              "       0., 0., 0., 0., 0., 0., 0., 0., 0., 0., 0., 0., 0., 0., 0., 0., 0.,\n",
              "       0., 0., 0., 0., 0., 0., 0., 0., 0., 0., 0., 0., 0., 0., 0., 0., 0.,\n",
              "       0., 0., 0., 0., 0., 0., 0., 0., 0., 0., 0., 0., 0., 0., 0., 0., 0.,\n",
              "       0., 0., 0., 0., 0., 0., 0., 0., 0., 0., 0., 0., 0., 0., 0., 0., 0.,\n",
              "       0., 0., 0., 0., 0., 0., 0., 0., 0., 0., 0., 0., 0., 0., 0., 0., 0.,\n",
              "       0., 0., 0., 0., 0., 0., 0., 0., 0., 0., 0., 0., 0., 0., 0., 0., 0.,\n",
              "       0., 0., 0., 0., 0., 0., 0., 0., 0., 0., 0., 0., 0., 0., 0., 0., 0.,\n",
              "       0., 1., 0., 0., 0., 0., 0., 0., 0., 0., 0., 0., 0., 0., 0., 0., 0.,\n",
              "       0., 0., 0., 0., 0., 0., 0., 0., 0., 0., 0., 0., 0., 0., 0., 0., 0.,\n",
              "       0., 0., 0., 0., 0., 0., 0., 0., 0., 0., 0., 0., 0., 0., 0., 0., 0.,\n",
              "       0., 0., 0., 0., 0., 0., 0., 0., 0., 0., 0., 0., 0., 0., 0., 0., 0.,\n",
              "       0., 0., 0., 0., 0., 0., 0., 0., 0., 0., 0., 0., 0., 0., 0., 0., 0.,\n",
              "       0., 0., 0., 0., 0., 0., 0., 0., 0., 0., 0., 0., 0., 0., 0., 0., 0.,\n",
              "       0., 0., 0., 0., 0., 0., 0., 0., 0., 0., 0., 0., 0., 0., 0., 0., 0.,\n",
              "       0., 0., 0., 0., 0., 0., 0., 0., 0., 0., 0., 0., 0., 0., 0., 0., 0.,\n",
              "       0., 0., 0., 0., 0., 0., 0., 0., 0., 0., 0., 0., 0., 0., 0., 0., 0.,\n",
              "       0., 0., 0., 0., 0., 0., 0., 0., 0., 0., 0., 0., 0., 0., 0., 0., 0.,\n",
              "       0., 0., 0., 0., 0., 0., 0., 0., 0., 0., 0., 0., 0., 0., 0., 0., 0.,\n",
              "       0., 0., 0., 0., 0., 0., 0., 0., 0., 0., 0., 0., 0., 0., 0., 0., 0.,\n",
              "       0., 0., 0., 0., 0., 0., 0., 0., 0., 0., 1., 0., 0., 0., 0., 0., 0.,\n",
              "       0., 0., 0., 0., 0., 0., 0., 0., 0., 0., 0., 0., 0., 1., 0., 0., 0.,\n",
              "       0., 0., 0., 0., 0., 0., 0., 0., 0., 0., 0., 0., 0., 0., 0., 0., 0.,\n",
              "       0., 0., 0., 0., 0., 0., 0., 0., 0., 0., 0., 0., 0., 0., 0., 0., 0.,\n",
              "       0., 0., 0., 0., 0., 0., 0., 0., 0., 0., 0., 0., 0., 0., 0., 0., 0.,\n",
              "       0., 0., 0., 0., 0., 0., 0., 0., 0., 0., 0., 0., 0., 0., 0., 0., 0.,\n",
              "       0., 0., 0., 0., 0., 0., 0., 0., 1., 0., 0., 0., 0., 0., 0., 0., 0.,\n",
              "       0., 0., 0., 0., 0., 0., 0., 0., 0., 0., 0., 0., 0., 0., 0., 0., 0.,\n",
              "       0., 0., 0., 0., 0., 0., 0., 0., 0., 0., 0., 0., 0., 0., 0., 0., 0.,\n",
              "       0., 0., 0., 0., 0., 0., 0., 0., 0., 0., 0., 0., 0., 0., 0., 0., 0.,\n",
              "       0., 0., 0., 0., 0., 0., 0., 0., 0., 0., 0., 0., 0., 0., 0., 0., 0.,\n",
              "       0., 0., 0., 0., 0., 0., 0., 0., 0., 0., 0., 0., 0., 0., 0., 0., 0.,\n",
              "       0., 0., 0., 0., 0., 0., 0., 0., 0., 0., 0., 0., 0., 0., 0., 0., 0.,\n",
              "       0., 0., 0., 0., 0., 0., 0., 0., 0., 0., 0., 0., 0., 0., 0., 0., 0.,\n",
              "       0., 0., 0., 0., 0., 0., 0., 0., 0., 0., 0., 0., 0., 0., 0., 0., 0.,\n",
              "       0., 0., 0., 0., 0., 0., 0., 0., 0., 0., 0., 0., 0., 0., 0., 0., 0.,\n",
              "       0., 0., 0., 0., 0., 0., 0., 0., 0., 0., 0., 0., 0., 0., 0., 0., 0.,\n",
              "       0., 0., 0., 0., 0., 0., 0., 0., 0., 0., 0., 0., 0., 0., 0., 0., 0.,\n",
              "       0., 0., 0., 0., 0., 0., 0., 0., 0., 0., 0., 0., 0., 0., 0., 0., 0.,\n",
              "       0., 0., 0., 0., 0., 0., 0., 0., 0., 0., 0., 0., 0., 0., 0., 0., 0.,\n",
              "       0., 0., 0., 0., 0., 0., 0., 0., 0., 0., 0., 0., 0., 0., 0., 0., 0.,\n",
              "       0., 0., 0., 0., 0., 0., 0., 0., 0., 0., 0., 0., 0., 0., 0., 0., 0.,\n",
              "       0., 0., 0., 0., 0., 0., 0., 0., 0., 0., 0., 0., 0., 0., 0., 0., 0.,\n",
              "       0., 0., 0., 0., 0., 0., 0., 0., 0., 0., 0., 0., 0., 0., 0., 0., 0.,\n",
              "       0., 0., 1., 0., 0., 0., 0., 0., 0., 0., 0., 0., 0., 0., 0., 0., 0.,\n",
              "       0., 0., 0., 0., 0., 0., 0., 0., 0., 0., 0., 0., 0., 0., 0., 0., 0.,\n",
              "       0., 0., 0., 0., 0., 0., 0., 0., 0., 0., 0., 0., 0., 0., 0., 0., 0.,\n",
              "       0., 0., 0., 0., 0., 0., 0., 0., 0., 0., 0., 0., 0., 0., 0., 0., 0.,\n",
              "       0., 0., 0., 0., 0., 0., 0., 0., 0., 0., 0., 0., 0., 1., 0., 0., 0.,\n",
              "       0., 0., 0., 0., 0., 0., 0., 0., 0., 0., 0., 0., 0., 0., 0., 0., 0.,\n",
              "       0., 0., 0., 0., 0., 0., 0., 0., 0., 0., 0., 0., 0., 0., 0., 0., 0.,\n",
              "       0., 0., 0., 0., 0., 0., 0., 0., 0., 0., 0., 0., 0., 0., 0., 0., 0.,\n",
              "       0., 0., 0., 0., 0., 0., 0., 0., 0., 0., 0., 0., 0., 0., 0., 0., 0.,\n",
              "       0., 0., 0., 0., 0., 0., 0., 0., 0., 0., 0., 0., 0., 0., 0., 0., 0.,\n",
              "       0., 0., 0., 0., 0., 0., 0., 0., 0., 0., 0., 0., 0., 0., 0., 0., 0.,\n",
              "       0., 0., 0., 0., 0., 0., 0., 0., 0., 0., 0., 0., 0., 0., 0., 0., 0.,\n",
              "       0., 0., 0., 0., 0., 0., 0., 0., 0., 0., 0., 0., 0., 0., 0., 0., 0.,\n",
              "       0., 0., 0., 0., 0., 0., 0., 0., 0., 0., 0., 0., 0., 0., 0., 0., 0.,\n",
              "       0., 0., 0., 0., 0., 0., 0., 0., 0., 0., 0., 0., 0., 0., 0., 0., 0.,\n",
              "       0., 0., 0., 0., 0., 0., 0., 0., 0., 0., 0., 0., 0., 0., 0., 0., 0.,\n",
              "       0., 0., 0., 0., 0., 0., 0., 0., 1., 0., 0., 0., 0., 0., 0., 1., 0.,\n",
              "       0., 0., 0., 0., 0., 0., 0., 0., 0., 0., 0., 0., 0., 0., 0., 0., 0.,\n",
              "       0., 0., 0., 0., 0., 0., 0., 0., 0., 0., 0., 0., 0., 0., 0., 0., 0.,\n",
              "       0., 0., 0., 0., 0., 0., 0., 0., 0., 0., 0., 0., 0., 0., 0., 0., 0.,\n",
              "       0., 0., 0., 0., 0., 0., 0., 0., 0., 0., 0., 0., 0., 0., 0., 0., 0.,\n",
              "       0., 0., 0., 0., 0., 0., 0., 0., 0., 0., 0., 0., 0., 0., 0., 0., 0.,\n",
              "       1., 0., 0., 0., 0., 0., 0., 0., 0., 0., 0., 0., 0., 0., 0., 0., 0.,\n",
              "       0., 0., 0., 0., 0., 0., 0., 0., 0., 0., 0., 0., 0., 0., 1., 0., 0.,\n",
              "       0., 0., 0., 0., 0., 0., 0., 0., 0., 0., 0., 0., 0., 0., 0., 0., 0.,\n",
              "       0., 0., 0., 0., 0., 0., 0., 0., 1., 0., 0., 0., 0., 0., 0., 0., 0.,\n",
              "       0., 0., 0., 0., 0., 0., 0., 0., 0., 0., 0., 0., 0., 0., 0., 0., 0.,\n",
              "       0., 0., 0., 0., 0., 0., 0., 0., 0., 0., 0., 0., 0., 0., 0., 0., 0.,\n",
              "       0., 0., 0., 0., 0., 0., 0., 0., 0., 0., 0., 0., 0., 0., 0., 0., 0.,\n",
              "       0., 0., 0., 0., 0., 0., 0., 0., 0., 0., 0., 0., 0., 0., 0., 0., 0.,\n",
              "       0., 0., 0., 0., 0., 0., 0., 0., 0., 0., 0., 0., 0., 0., 0., 0., 0.,\n",
              "       0., 0., 0., 0., 0., 0., 0., 0., 0., 0., 0., 0., 0., 0., 0., 0., 0.,\n",
              "       0., 0., 0., 0., 0., 0., 0., 0., 0., 0., 0., 0., 0., 0., 0., 0., 0.,\n",
              "       0., 0., 0., 0., 0., 0., 0., 0., 0., 0., 0., 0., 0., 0., 0., 0., 0.,\n",
              "       0., 0., 0., 0., 0., 0., 0., 0., 0., 0., 0., 0., 0., 0., 0., 0., 0.,\n",
              "       0., 0., 0., 0., 0., 0., 0., 0., 0., 0., 0., 0., 0., 0., 0., 0., 0.,\n",
              "       0., 0., 0., 0., 0., 0., 0., 0., 0., 0., 0., 0., 0., 0., 0., 0., 0.,\n",
              "       0., 0., 0., 0., 0., 0., 0., 0., 0., 0., 0., 0., 0., 0., 0., 0., 0.,\n",
              "       0., 0., 0., 0., 0., 0., 0., 0., 0., 0., 0., 0., 0., 0., 0., 0., 0.,\n",
              "       0., 0., 0., 0., 0., 0., 0., 0., 0., 0., 0., 0., 0., 0., 0., 0., 0.,\n",
              "       0., 0., 0., 1., 0., 0., 0., 0., 0., 0., 0., 0., 0., 0., 0., 0., 0.,\n",
              "       0., 0., 0., 0., 0., 0., 0., 0., 0., 0., 0., 0., 0., 0., 0., 0., 0.,\n",
              "       0., 0., 0., 0., 0., 0., 0., 0., 0., 0., 0., 0., 0., 0., 0., 0., 0.,\n",
              "       0., 0., 0., 0., 0., 0., 0., 0., 0., 0., 0., 0., 0., 0., 0., 0., 0.,\n",
              "       0., 0., 0., 0., 0., 1., 0., 0., 0., 0., 0., 0., 0., 0., 0., 0., 0.,\n",
              "       0., 0., 0., 0., 1., 0., 0., 0., 0., 0., 0., 0., 0., 0., 0., 0., 0.,\n",
              "       0., 0., 0., 0., 0., 0., 0., 0., 0., 0., 0., 0., 0., 0., 0., 0., 0.,\n",
              "       0., 0., 0., 0., 0., 0., 0., 0., 0., 0., 0., 0., 0., 0., 0., 0., 0.,\n",
              "       0., 0., 0., 0., 0., 0., 0., 0., 0., 0., 0., 0., 0., 0., 0., 0., 0.,\n",
              "       0., 0., 0., 0., 0., 0., 0., 0., 0., 0., 0., 0., 0., 0., 0., 0., 0.,\n",
              "       0., 0., 0., 0., 0., 0., 0., 0., 0., 0., 0., 0., 0., 0., 0., 0., 0.,\n",
              "       0., 0., 0., 0., 0., 0., 0., 0., 0., 0., 0., 0., 0., 0., 0., 0., 0.,\n",
              "       0., 0., 0., 0., 0., 0., 0., 0., 0., 0., 0., 0., 0., 1., 0., 0., 0.,\n",
              "       0., 0., 0., 0., 0., 0., 0., 0., 0., 0., 0., 0., 0., 0., 0., 0., 0.,\n",
              "       0., 0., 0., 0., 0., 0., 0., 0., 0., 0., 0., 0., 0., 0., 0., 0., 0.,\n",
              "       0., 0., 0., 0., 0., 0., 0., 0., 0., 0., 0., 0., 0., 0., 0., 0., 0.,\n",
              "       0., 0., 0., 0., 0., 0., 0., 0., 0., 0., 0., 0., 0., 0., 0., 0., 0.,\n",
              "       0., 0., 0., 0., 0., 0., 0., 0., 0., 0., 0., 0., 0., 0., 0., 0., 0.,\n",
              "       0., 0., 0., 0., 0., 0., 0., 0., 0., 0., 0., 0., 0., 0., 0., 0., 0.,\n",
              "       0., 0., 0., 0., 0., 0., 0., 0., 0., 0., 0., 0., 0., 0., 0., 0., 0.,\n",
              "       0., 0., 0., 0., 0., 0., 0., 0., 0., 0., 0., 0., 0., 0., 0., 0., 0.,\n",
              "       0., 0., 0., 0., 0., 0., 0., 0., 0., 0., 0., 0., 0., 0., 0., 0., 0.,\n",
              "       0., 0., 0., 0., 0., 0., 0., 0., 0., 0., 0., 0., 0., 0., 0., 0., 0.,\n",
              "       0., 0., 0., 0., 0., 0., 0., 0., 0., 0., 0., 0., 0., 0., 0., 0., 0.,\n",
              "       0., 0., 0., 0., 0., 0., 0., 0., 0., 0., 0., 0., 0., 0., 0., 0., 0.,\n",
              "       0., 0., 0., 0., 0., 0., 0., 0., 0., 0., 0., 0., 0., 0., 0., 0., 0.,\n",
              "       0., 0., 0., 0., 0., 0., 0., 0., 0., 0., 0., 0., 0., 0., 0., 0., 0.,\n",
              "       0., 0., 0., 0., 0., 0., 0., 0., 0., 0., 0., 0., 0., 0., 0., 0., 0.,\n",
              "       0., 0., 0., 0., 0., 0., 0., 0., 0., 0., 0., 0., 0., 0., 0., 0., 0.,\n",
              "       0., 0., 0., 0., 0., 0., 0., 0., 0., 0., 0., 0., 0., 0., 0., 0., 0.,\n",
              "       0., 0., 0., 0., 0., 0., 0., 0., 0., 0., 0., 0., 0., 0., 0., 0., 0.,\n",
              "       0., 0., 0., 0., 0., 0., 0., 0., 0., 0., 0., 0., 0., 0., 0., 0., 0.,\n",
              "       0., 0., 0., 0., 0., 0., 0., 0., 0., 0., 0., 0., 0., 0., 0., 0., 0.,\n",
              "       0., 0., 0., 1., 0., 0., 0., 0., 0., 0., 0., 0., 0., 0., 0., 0., 0.,\n",
              "       0., 0., 0., 0., 0., 0., 0., 0., 0., 0., 0., 0., 0., 0., 0., 0., 0.,\n",
              "       0., 0., 0., 0., 0., 0., 0., 0., 0., 0., 0., 0., 0., 0., 0., 0., 0.,\n",
              "       0., 0., 0., 0., 0., 0., 0., 0., 0., 0., 0., 0., 0., 0., 0., 0., 0.,\n",
              "       0., 1., 0., 0., 0., 0., 0., 0., 0., 0., 0., 0., 0., 0., 0., 0., 0.,\n",
              "       0., 1., 0., 0., 0., 0., 0., 0., 0., 0., 0., 0., 0., 0., 0., 0., 0.,\n",
              "       0., 0., 0., 0., 0., 0., 0., 0., 0., 0., 0., 0., 0., 0., 0., 0., 0.,\n",
              "       0., 0., 0., 0., 0., 0., 0., 0., 0., 0., 0., 0., 0., 0., 0., 0., 0.,\n",
              "       0., 0., 0., 0., 0., 0., 0., 0., 0., 0., 0., 0., 0., 0., 0., 0., 0.,\n",
              "       0., 0., 0., 0., 0., 0., 0., 0., 0., 0., 0., 0., 0., 0., 0., 0., 0.,\n",
              "       0., 0., 0., 0., 0., 0., 0., 0., 0., 0., 0., 0., 0., 0., 0., 0., 0.,\n",
              "       0., 0., 0., 0., 0., 0., 0., 0., 0., 0., 0., 0., 0., 0., 0., 0., 0.,\n",
              "       0., 0., 0., 0., 0., 0., 0., 0., 0., 0., 0., 0., 0., 0., 0., 0., 0.,\n",
              "       0., 0., 0., 0., 0., 0., 0., 0., 0., 0., 0., 0., 0., 0., 0., 0., 0.,\n",
              "       0., 0., 0., 0., 0., 0., 0., 0., 0., 0., 0., 0., 0., 0., 0., 0., 0.,\n",
              "       0., 0., 0., 0., 0., 0., 0., 0., 0., 0., 0., 0., 0., 0., 0., 0., 0.,\n",
              "       0., 0., 0., 0., 0., 0., 0., 0., 0., 0., 0., 0., 0., 0., 0., 0., 0.,\n",
              "       0., 0., 0., 0., 0., 0., 0., 0., 0., 0., 0., 0., 0., 0., 0., 0., 0.,\n",
              "       0., 0., 0., 0., 0., 0., 0., 0., 0., 0., 0., 0., 0., 0., 0., 0., 0.,\n",
              "       0., 0., 0., 0., 0., 0., 0., 0., 0., 0., 0., 0., 0., 0., 0., 0., 0.,\n",
              "       0., 0., 0., 0., 0., 0., 0., 0., 0., 0., 0., 0., 0., 0., 0., 0., 0.,\n",
              "       0., 0., 0., 0., 0., 0., 0., 0., 0., 0., 0., 0., 0., 0., 0., 0., 0.,\n",
              "       0., 0., 0., 0., 0., 0., 0., 0., 0., 0., 0., 0., 0., 0., 0., 0., 0.,\n",
              "       0., 0., 0., 0., 0., 0., 0., 0., 0., 0., 0., 0., 0., 0., 0., 0., 0.,\n",
              "       0., 0., 0., 0., 0., 0., 0., 0., 0., 0., 0., 0., 0., 0., 0., 0., 0.,\n",
              "       0., 0., 0., 0., 0., 0., 0., 0., 0., 0., 0., 0., 0., 0., 0., 0., 0.,\n",
              "       0., 0., 0., 0., 0., 0., 0., 0., 0., 0., 0., 0., 1., 0., 0., 0., 0.,\n",
              "       0., 0., 0., 0., 0., 0., 0., 0., 0., 0., 0., 0., 0., 0., 0., 0., 0.,\n",
              "       0., 0., 0., 0., 0., 0., 0., 0., 0., 0., 0., 0., 0., 0., 0., 0., 0.,\n",
              "       0., 0., 0., 0., 0., 0., 0., 0., 0., 0., 0., 0., 0., 0., 0., 0., 0.,\n",
              "       0., 0., 0., 0., 0., 0., 0., 0., 0., 0., 0., 0., 0., 0., 0., 0., 0.,\n",
              "       0., 0., 0., 0., 0., 0., 0., 0., 0., 0., 0., 0., 0., 0., 0., 0., 0.,\n",
              "       0., 0., 0., 0., 0., 0., 0., 0., 0., 0., 0., 0., 0., 0., 0., 0., 0.,\n",
              "       0., 0., 0., 0., 0., 0., 0., 0., 0., 0., 0., 0., 0., 0., 0., 0., 0.,\n",
              "       1., 0., 0., 0., 0., 0., 0., 0., 0., 0., 0., 0., 0., 0., 0., 0., 0.,\n",
              "       0., 0., 0., 0., 0., 0., 0., 0., 0., 0., 0., 0., 0., 0., 0., 0., 0.,\n",
              "       0., 0., 0., 0., 0., 0., 0., 0., 0., 0., 0., 0., 0., 0., 0., 0., 0.,\n",
              "       0., 0., 0., 0., 0., 0., 0., 0., 0., 0., 0., 0., 0., 0., 0., 0., 0.,\n",
              "       0., 0., 0., 0., 0., 0., 0., 0., 0., 0., 0., 0., 0., 0., 0., 0., 0.,\n",
              "       1., 0., 0., 0., 0., 0., 0., 0., 0., 0., 0., 0., 0., 0., 0., 0., 0.,\n",
              "       0., 0., 0., 0., 0., 0., 0., 0., 0., 0., 0., 0., 1., 0., 0., 0., 0.,\n",
              "       0., 0., 0., 0., 0., 0., 0., 0., 0., 0., 0., 0., 0., 0., 0., 0., 0.,\n",
              "       0., 0., 0., 0., 0., 0., 0., 0., 0., 0., 0., 0., 0., 0., 0., 0., 0.,\n",
              "       0., 0., 0., 0., 0., 0., 0., 0., 0., 0., 0., 0., 0., 0., 0., 0., 0.,\n",
              "       0., 0., 0., 0., 0., 0., 0., 0., 1., 0., 0., 0., 0., 0., 0., 0., 0.,\n",
              "       0., 0., 0., 0., 0., 1., 0., 0., 0., 0., 0., 0., 0., 0., 0., 0., 0.,\n",
              "       0., 0., 0., 0., 0., 0., 0., 0., 0., 0., 0., 0., 0., 0., 0., 0., 0.,\n",
              "       0., 0., 1., 0., 0., 0., 0., 0., 0., 0., 0., 0., 0., 0., 0., 0., 0.,\n",
              "       0., 0., 0., 0., 0., 0., 0., 0., 0., 0., 0., 0., 0., 0., 0., 0., 0.,\n",
              "       0., 0., 0., 0., 0., 0., 0., 0., 0., 0., 0., 0., 0., 0., 0., 0., 0.,\n",
              "       0., 0., 0., 0., 0., 0., 0., 0., 0., 0., 0., 0., 0., 0., 0., 0., 0.,\n",
              "       0., 0., 0., 0., 0., 0., 0., 0., 0., 0., 0., 0., 0., 0., 0., 0., 0.,\n",
              "       0., 0., 0., 0., 0., 0., 0., 0., 0., 0., 0., 0., 0., 0., 0., 0., 0.,\n",
              "       0., 0., 0., 0., 0., 1., 0., 0., 0., 0., 0., 0., 0., 0., 0., 0., 0.,\n",
              "       0., 0., 0., 0., 1., 0., 0., 0., 0., 0., 0., 0., 0., 0., 0., 0., 0.,\n",
              "       0., 0., 0., 0., 0., 0., 0., 0., 0., 0., 0., 0., 0., 0., 0., 0., 0.,\n",
              "       0., 0., 0., 0., 0., 0., 0., 0., 0., 0., 0., 0., 0., 0., 0., 0., 0.,\n",
              "       0., 0., 0., 0., 0., 0., 0., 0., 0., 0., 1., 0., 0., 0., 0., 0., 0.,\n",
              "       0., 0., 0., 0., 0., 0., 0., 0., 0., 0., 0., 0., 0., 0., 0., 0., 0.,\n",
              "       0., 0., 0., 0., 0., 0., 0., 0., 0., 0., 0., 0., 0., 0., 0., 0., 0.,\n",
              "       0., 0., 0., 0., 0., 0., 0., 0., 0., 0., 0., 0., 0., 0., 0., 0., 0.,\n",
              "       0., 0., 0., 0., 0., 0., 0., 0., 0., 0., 0., 0., 0., 0., 0., 0., 0.,\n",
              "       0., 0., 0., 0., 0., 0., 0., 0., 0., 0., 0., 0., 0., 0., 0., 0., 0.,\n",
              "       0., 0., 0., 0., 0., 0., 0., 0., 0., 0., 0., 0., 0., 0., 0., 0., 0.,\n",
              "       0., 0., 0., 0., 0., 0., 0., 0., 0., 0., 0., 0., 0., 0., 0., 0., 0.,\n",
              "       0., 0., 0., 0., 1., 0., 0., 0., 0., 0., 0., 0., 0., 0., 0., 0., 0.,\n",
              "       0., 0., 0., 0., 0., 0., 0., 0., 0., 0., 0., 0., 0., 0., 0., 0., 0.,\n",
              "       0., 0., 0., 0., 0., 0., 0., 0., 0., 0., 0., 0., 0., 0., 0., 0., 0.,\n",
              "       0., 0., 0., 0., 0., 0., 0., 0., 0., 0., 0., 0., 0., 0., 0., 0., 0.,\n",
              "       0., 0., 0., 0., 0., 0., 0., 0., 0., 0., 0., 0., 0., 0., 0., 0., 0.,\n",
              "       0., 0., 0., 0., 0., 0., 0., 0., 0., 0., 0., 0., 0., 0., 0., 0., 0.,\n",
              "       0., 0., 0., 0., 0., 0., 0., 0., 0., 0., 0., 0., 0., 0., 0., 0., 0.,\n",
              "       0., 0., 0., 0., 0., 0., 0., 0., 0., 0., 0., 0., 0., 0., 0., 0., 0.,\n",
              "       0., 0., 0., 0., 0., 0., 0., 0., 0., 0., 0., 0., 0., 0., 0., 0., 0.,\n",
              "       0., 0., 0., 0., 0., 0., 0., 0., 0., 0., 0., 0., 0., 0., 0., 0., 0.,\n",
              "       0., 0., 0., 0., 0., 0., 0., 0., 0., 0., 0., 0., 0., 0., 0., 0., 0.,\n",
              "       0., 0., 0., 0., 0., 0., 0., 0., 0., 0., 0., 0., 0., 0., 0., 0., 0.,\n",
              "       0., 0., 0., 0., 0., 0., 0., 0., 0., 0., 0., 0., 0., 0., 0., 0., 0.,\n",
              "       0., 0., 0., 0., 0., 0., 0., 0., 0., 0., 0., 0., 0., 0., 0., 0., 0.,\n",
              "       0., 0., 0., 0., 0., 0., 0., 0., 0., 0., 0., 0., 0., 0., 0., 0., 0.,\n",
              "       0., 0., 0., 0., 0., 0., 0., 0., 0., 0., 0., 0., 0., 0., 0., 0., 0.,\n",
              "       0., 0., 0., 0., 0., 0., 0., 0., 0., 0., 0., 0., 0., 0., 0., 0., 0.,\n",
              "       0., 0., 0., 0., 0., 0., 0., 0., 0., 0., 0., 0., 0., 0., 0., 0., 0.,\n",
              "       0., 0., 0., 0., 0., 0., 0., 0., 0., 0., 0., 0., 0.])"
            ]
          },
          "metadata": {},
          "execution_count": 47
        }
      ]
    },
    {
      "cell_type": "code",
      "source": [],
      "metadata": {
        "id": "5rpSsUMfU8BB"
      },
      "execution_count": null,
      "outputs": []
    }
  ]
}